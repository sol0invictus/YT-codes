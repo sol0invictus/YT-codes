{
  "nbformat": 4,
  "nbformat_minor": 0,
  "metadata": {
    "colab": {
      "name": "Untitled0.ipynb",
      "provenance": [],
      "collapsed_sections": []
    },
    "kernelspec": {
      "name": "python3",
      "display_name": "Python 3"
    },
    "accelerator": "GPU"
  },
  "cells": [
    {
      "cell_type": "markdown",
      "metadata": {
        "id": "tLwd4dTtpjC8"
      },
      "source": [
        "# Creating Neural Network I : nn.Sequential"
      ]
    },
    {
      "cell_type": "code",
      "metadata": {
        "id": "W8b8vtyrKqcG"
      },
      "source": [
        "import torch\n",
        "import torch.nn as nn"
      ],
      "execution_count": 2,
      "outputs": []
    },
    {
      "cell_type": "markdown",
      "metadata": {
        "id": "BYkROC04d90Y"
      },
      "source": [
        "\n",
        "We construct a very basic model which takes an input and outputs a single number\n",
        "\n"
      ]
    },
    {
      "cell_type": "code",
      "metadata": {
        "id": "oc7qU5ZKd9Pi"
      },
      "source": [
        "model = nn.Sequential(\n",
        "         nn.Linear(1, 10),\n",
        "            nn.ReLU(),\n",
        "            nn.Linear(10, 1),\n",
        "            )"
      ],
      "execution_count": 50,
      "outputs": []
    },
    {
      "cell_type": "code",
      "metadata": {
        "colab": {
          "base_uri": "https://localhost:8080/"
        },
        "id": "jWp5_Y9AF4hz",
        "outputId": "0a11bf17-6434-4e4d-db52-3e7853fc4328"
      },
      "source": [
        "model(torch.rand(3,1))"
      ],
      "execution_count": 5,
      "outputs": [
        {
          "output_type": "execute_result",
          "data": {
            "text/plain": [
              "tensor([[-0.1674],\n",
              "        [-0.1559],\n",
              "        [-0.1776]], grad_fn=<AddmmBackward>)"
            ]
          },
          "metadata": {},
          "execution_count": 5
        }
      ]
    },
    {
      "cell_type": "code",
      "metadata": {
        "id": "Gq4b_WKMF9wC",
        "colab": {
          "base_uri": "https://localhost:8080/"
        },
        "outputId": "215b49c0-1af2-45d1-f4bf-9a0770cc07e0"
      },
      "source": [
        "a = torch.sum(model(torch.rand(3,1)),dim=[0])\n",
        "a"
      ],
      "execution_count": 9,
      "outputs": [
        {
          "output_type": "execute_result",
          "data": {
            "text/plain": [
              "tensor([-0.3120], grad_fn=<SumBackward1>)"
            ]
          },
          "metadata": {},
          "execution_count": 9
        }
      ]
    },
    {
      "cell_type": "markdown",
      "metadata": {
        "id": "NIFijNowp9KV"
      },
      "source": [
        "We perform backpropogation on the model with the .backward() command"
      ]
    },
    {
      "cell_type": "code",
      "metadata": {
        "id": "SOR864KXGDZS",
        "colab": {
          "base_uri": "https://localhost:8080/"
        },
        "outputId": "a2463560-f676-4e7a-f41f-f85d3ce95bb2"
      },
      "source": [
        "a.backward()\n",
        "model.parameters"
      ],
      "execution_count": 10,
      "outputs": [
        {
          "output_type": "execute_result",
          "data": {
            "text/plain": [
              "<bound method Module.parameters of Sequential(\n",
              "  (0): Linear(in_features=1, out_features=10, bias=True)\n",
              "  (1): ReLU()\n",
              "  (2): Linear(in_features=10, out_features=1, bias=True)\n",
              ")>"
            ]
          },
          "metadata": {},
          "execution_count": 10
        }
      ]
    },
    {
      "cell_type": "code",
      "metadata": {
        "id": "9XLhM9M6Hda-",
        "colab": {
          "base_uri": "https://localhost:8080/"
        },
        "outputId": "49c7d130-812e-4ecb-c0ee-e4290580f958"
      },
      "source": [
        "model[0].weight.grad"
      ],
      "execution_count": 11,
      "outputs": [
        {
          "output_type": "execute_result",
          "data": {
            "text/plain": [
              "tensor([[ 0.1627],\n",
              "        [ 0.0000],\n",
              "        [ 0.0439],\n",
              "        [ 0.0000],\n",
              "        [-0.4093],\n",
              "        [ 0.0000],\n",
              "        [ 0.0000],\n",
              "        [-0.0466],\n",
              "        [ 0.1612],\n",
              "        [ 0.1741]])"
            ]
          },
          "metadata": {},
          "execution_count": 11
        }
      ]
    },
    {
      "cell_type": "markdown",
      "metadata": {
        "id": "Mbhv1kiCqFCm"
      },
      "source": [
        "## Training the Network from scratch manually.\n",
        "\n",
        "Simple manual loop to train the network"
      ]
    },
    {
      "cell_type": "code",
      "metadata": {
        "id": "zrvURkwiahSW"
      },
      "source": [
        "model = nn.Sequential(\n",
        "         nn.Linear(1, 10),\n",
        "            nn.ReLU(),\n",
        "            nn.Linear(10, 1),\n",
        "            )\n",
        "X = torch.rand(1000,1)\n",
        "Y = X**2\n",
        "for i in range(100):\n",
        "  out = model(X)\n",
        "  loss = torch.sum((out-Y)**2,dim=0)\n",
        "  loss.backward()\n",
        "  dx1 = model[0].weight.grad\n",
        "  dx2 = model[2].weight.grad\n",
        "  db1 = model[0].bias.grad\n",
        "  db2 = model[2].bias.grad\n",
        "  with torch.no_grad():\n",
        "    model[0].weight -= 0.0001 * dx1\n",
        "    model[2].weight -= 0.0001 * dx2\n",
        "    model[0].bias -= 0.0001 * db1\n",
        "    model[2].bias -= 0.0001 * db2\n",
        "  model.zero_grad()\n",
        "\n",
        "  "
      ],
      "execution_count": 61,
      "outputs": []
    },
    {
      "cell_type": "code",
      "metadata": {
        "colab": {
          "base_uri": "https://localhost:8080/"
        },
        "id": "byytgNGQjvJt",
        "outputId": "58ffd495-2629-4a81-f651-c8f002e504d5"
      },
      "source": [
        "X = torch.rand(2,1)\n",
        "print(X**2)\n",
        "model(X)"
      ],
      "execution_count": 59,
      "outputs": [
        {
          "output_type": "execute_result",
          "data": {
            "text/plain": [
              "tensor([[0.2889],\n",
              "        [0.1312]])"
            ]
          },
          "metadata": {},
          "execution_count": 59
        }
      ]
    },
    {
      "cell_type": "markdown",
      "metadata": {
        "id": "2sjrwWV1qYCE"
      },
      "source": [
        "## Training Network using an optimizer\n",
        "\n",
        "Training the network using an optimizer"
      ]
    },
    {
      "cell_type": "code",
      "metadata": {
        "id": "M3nQbhTAjvcE"
      },
      "source": [
        "model = nn.Sequential(\n",
        "         nn.Linear(1, 10),\n",
        "            nn.ReLU(),\n",
        "            nn.Linear(10, 1),\n",
        "            )\n",
        "optimizer = torch.optim.SGD(model.parameters(), lr=0.0001)\n",
        "\n",
        "X = torch.rand(1000,1)\n",
        "Y = X**2\n",
        "for i in range(100):\n",
        "  out = model(X)\n",
        "  loss = torch.sum((out-Y)**2,dim=0)\n",
        "  loss.backward()\n",
        "  optimizer.step()\n",
        "  optimizer.zero_grad()"
      ],
      "execution_count": 68,
      "outputs": []
    },
    {
      "cell_type": "code",
      "metadata": {
        "colab": {
          "base_uri": "https://localhost:8080/"
        },
        "id": "GafXxTS-j8xZ",
        "outputId": "2c9828e3-dae7-415b-8fae-3763cc47541e"
      },
      "source": [
        "X = torch.rand(2,1)\n",
        "print(X**2)\n",
        "model(X)"
      ],
      "execution_count": 69,
      "outputs": [
        {
          "output_type": "stream",
          "name": "stdout",
          "text": [
            "tensor([[0.5076],\n",
            "        [0.6510]])\n"
          ]
        },
        {
          "output_type": "execute_result",
          "data": {
            "text/plain": [
              "tensor([[0.5414],\n",
              "        [0.6235]], grad_fn=<AddmmBackward>)"
            ]
          },
          "metadata": {},
          "execution_count": 69
        }
      ]
    },
    {
      "cell_type": "code",
      "metadata": {
        "id": "InHh7nyFj9fn"
      },
      "source": [
        ""
      ],
      "execution_count": null,
      "outputs": []
    }
  ]
}