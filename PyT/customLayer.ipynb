{
  "nbformat": 4,
  "nbformat_minor": 0,
  "metadata": {
    "colab": {
      "name": "customLayer.ipynb",
      "provenance": [],
      "collapsed_sections": []
    },
    "kernelspec": {
      "name": "python3",
      "display_name": "Python 3"
    },
    "language_info": {
      "name": "python"
    }
  },
  "cells": [
    {
      "cell_type": "markdown",
      "metadata": {
        "id": "2O8Pd8-TcuK7"
      },
      "source": [
        "# Custom Layers in PyTorch"
      ]
    },
    {
      "cell_type": "code",
      "metadata": {
        "id": "A5bVs9reRlsk"
      },
      "source": [
        "import torch\n",
        "import torch.nn as nn"
      ],
      "execution_count": 3,
      "outputs": []
    },
    {
      "cell_type": "markdown",
      "metadata": {
        "id": "Rdwhm3Gbc2QK"
      },
      "source": [
        "There is no custom-layer type in PyTorch and nn.Modules serve as the base type for both networks and layers. In this small example we will construct a layer that computes element wise product of input elements"
      ]
    },
    {
      "cell_type": "code",
      "metadata": {
        "id": "ZHDROIhGRnGs"
      },
      "source": [
        "class MyLayer(nn.Module):\n",
        "    def __init__(self, size_in):\n",
        "        super().__init__()\n",
        "        self.size_in= size_in\n",
        "        weights = torch.Tensor(size_in)\n",
        "        self.weights = nn.Parameter(weights)  # nn.Parameter is a Tensor that's a module parameter.\n",
        "\n",
        "        # initialize weights and biases\n",
        "        torch.nn.init.normal_(self.weights, mean=0.0, std=1.0)\n",
        "        \n",
        "    def forward(self, x):\n",
        "        return x * self.weights"
      ],
      "execution_count": 21,
      "outputs": []
    },
    {
      "cell_type": "code",
      "metadata": {
        "id": "o2fqG90sSQlU"
      },
      "source": [
        "a = MyLayer(10)"
      ],
      "execution_count": 22,
      "outputs": []
    },
    {
      "cell_type": "markdown",
      "metadata": {
        "id": "dxalFtWMdHUn"
      },
      "source": [
        "As it is an nn.Module object we can probe its properties as before"
      ]
    },
    {
      "cell_type": "code",
      "metadata": {
        "colab": {
          "base_uri": "https://localhost:8080/"
        },
        "id": "KgXXDoyQShET",
        "outputId": "d978ee57-5799-4395-dca9-972239106e0f"
      },
      "source": [
        "a.weights"
      ],
      "execution_count": 23,
      "outputs": [
        {
          "output_type": "execute_result",
          "data": {
            "text/plain": [
              "Parameter containing:\n",
              "tensor([-0.3512,  1.0583, -1.6879,  0.2386,  0.8797, -1.3301, -0.7556,  2.0591,\n",
              "         0.3453, -1.6885], requires_grad=True)"
            ]
          },
          "metadata": {},
          "execution_count": 23
        }
      ]
    },
    {
      "cell_type": "markdown",
      "metadata": {
        "id": "SqyhXKGRdfUB"
      },
      "source": [
        "We can include this network in a sequential fashion, or in any other nn.Module as well"
      ]
    },
    {
      "cell_type": "code",
      "metadata": {
        "id": "yhA9tGFOSnrC"
      },
      "source": [
        "myNetwork = nn.Sequential(\n",
        "                           MyLayer(10), \n",
        "                            nn.ReLU()\n",
        ")"
      ],
      "execution_count": 24,
      "outputs": []
    },
    {
      "cell_type": "code",
      "metadata": {
        "colab": {
          "base_uri": "https://localhost:8080/"
        },
        "id": "JjgXpxGnTIqa",
        "outputId": "4aeb652d-97dc-4238-b27f-78ff98ea4527"
      },
      "source": [
        "inp = torch.ones([2,10])\n",
        "myNetwork(inp)"
      ],
      "execution_count": 27,
      "outputs": [
        {
          "output_type": "stream",
          "name": "stdout",
          "text": [
            "torch.Size([2, 10])\n"
          ]
        },
        {
          "output_type": "execute_result",
          "data": {
            "text/plain": [
              "tensor([[0.0000, 0.0000, 0.0000, 0.4613, 0.0000, 0.0870, 0.0000, 0.9894, 0.0000,\n",
              "         0.9822],\n",
              "        [0.0000, 0.0000, 0.0000, 0.4613, 0.0000, 0.0870, 0.0000, 0.9894, 0.0000,\n",
              "         0.9822]], grad_fn=<ReluBackward0>)"
            ]
          },
          "metadata": {},
          "execution_count": 27
        }
      ]
    },
    {
      "cell_type": "code",
      "metadata": {
        "id": "0Ye3mmsdTPY6"
      },
      "source": [
        ""
      ],
      "execution_count": null,
      "outputs": []
    }
  ]
}