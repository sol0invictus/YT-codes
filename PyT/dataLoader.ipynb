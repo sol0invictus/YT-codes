{
 "cells": [
  {
   "cell_type": "markdown",
   "metadata": {},
   "source": [
    "# Datasets and Dataloaders in PyTorch"
   ]
  },
  {
   "cell_type": "code",
   "execution_count": 139,
   "metadata": {},
   "outputs": [],
   "source": [
    "from torch.utils.data import Dataset, DataLoader\n",
    "from torchvision import datasets, transforms\n",
    "import torch\n",
    "import os\n",
    "from PIL import Image\n",
    "import numpy as np"
   ]
  },
  {
   "cell_type": "markdown",
   "metadata": {},
   "source": [
    "For this example we will be using the Cats vs Dogs dataset. Download the dataset from this location : https://www.microsoft.com/en-us/download/details.aspx?id=54765\n",
    "Once downloaded, extract the zipped file to a directory of you choice. Replace the dataDir variable with the location of this directory"
   ]
  },
  {
   "cell_type": "code",
   "execution_count": 15,
   "metadata": {},
   "outputs": [],
   "source": [
    "dataDir = \"C:\\\\Users\\sunny\\Downloads\\kagglecatsanddogs_3367a\\PetImages\"\n",
    "folder = os.listdir(dataDir)"
   ]
  },
  {
   "cell_type": "markdown",
   "metadata": {},
   "source": [
    "## Method 1 - Use of builtin methods"
   ]
  },
  {
   "cell_type": "markdown",
   "metadata": {},
   "source": [
    "First we will use builtin methods to create a dataset, utilizing the directory structure."
   ]
  },
  {
   "cell_type": "code",
   "execution_count": 162,
   "metadata": {},
   "outputs": [],
   "source": [
    "myTransform = transforms.Compose([transforms.Resize([224,224]),transforms.ToTensor()])\n",
    "data = datasets.ImageFolder(dataDir,transform=myTransform)"
   ]
  },
  {
   "cell_type": "code",
   "execution_count": 163,
   "metadata": {},
   "outputs": [
    {
     "data": {
      "text/plain": [
       "Dataset ImageFolder\n",
       "    Number of datapoints: 25000\n",
       "    Root location: C:\\Users\\sunny\\Downloads\\kagglecatsanddogs_3367a\\PetImages\n",
       "    StandardTransform\n",
       "Transform: Compose(\n",
       "               Resize(size=[224, 224], interpolation=bilinear, max_size=None, antialias=None)\n",
       "               ToTensor()\n",
       "           )"
      ]
     },
     "execution_count": 163,
     "metadata": {},
     "output_type": "execute_result"
    }
   ],
   "source": [
    "data"
   ]
  },
  {
   "cell_type": "markdown",
   "metadata": {},
   "source": [
    "DataLoader is the API which takes care of batching and shuffling the datasets. Create a dataloader object using the dataset that you just created. "
   ]
  },
  {
   "cell_type": "code",
   "execution_count": 164,
   "metadata": {},
   "outputs": [],
   "source": [
    "dataLoader = DataLoader(data,batch_size=10,shuffle=True)"
   ]
  },
  {
   "cell_type": "markdown",
   "metadata": {},
   "source": [
    "Test out the dataloader"
   ]
  },
  {
   "cell_type": "code",
   "execution_count": 165,
   "metadata": {},
   "outputs": [
    {
     "data": {
      "text/plain": [
       "tensor([1, 0, 0, 0, 0, 1, 0, 0, 1, 1])"
      ]
     },
     "execution_count": 165,
     "metadata": {},
     "output_type": "execute_result"
    }
   ],
   "source": [
    "a,b =iter(dataLoader).next()\n",
    "b"
   ]
  },
  {
   "cell_type": "markdown",
   "metadata": {},
   "source": [
    "## Method 2 - Custom DataSet object"
   ]
  },
  {
   "cell_type": "code",
   "execution_count": 125,
   "metadata": {},
   "outputs": [],
   "source": [
    "class myDataset(Dataset):\n",
    "    def __init__(self,dataDir):\n",
    "        self.dogList = os.listdir(dataDir+'\\Dog')\n",
    "        self.catList = os.listdir(dataDir+'\\Cat')\n",
    "        self.label = None\n",
    "        self.dir = dataDir\n",
    "    \n",
    "    def __len__(self):\n",
    "        return len(self.catList) + len(self.dogList)\n",
    "    \n",
    "    def __getitem__(self, index):\n",
    "        if index<len(self.dogList):\n",
    "            img = Image.open(os.path.join(self.dir,'Dog',self.dogList[index]))\n",
    "            self.label = 1\n",
    "        else:\n",
    "            index = index - len(self.dogList)\n",
    "            img = Image.open(os.path.join(self.dir,'Cat',self.catList[index]))\n",
    "            self.label = 0\n",
    "        img = np.asarray(img)\n",
    "        img = np.resize(img,(224,224,3))\n",
    "        return np.asarray(img),self.label"
   ]
  },
  {
   "cell_type": "code",
   "execution_count": 126,
   "metadata": {},
   "outputs": [],
   "source": [
    "catvdog = myDataset(dataDir)"
   ]
  },
  {
   "cell_type": "code",
   "execution_count": 127,
   "metadata": {},
   "outputs": [],
   "source": [
    "dataLoader3 = DataLoader(catvdog,batch_size=10,shuffle=True)\n",
    "        "
   ]
  },
  {
   "cell_type": "code",
   "execution_count": 132,
   "metadata": {},
   "outputs": [
    {
     "data": {
      "text/plain": [
       "tensor([1, 0, 0, 1, 1, 1, 0, 0, 1, 0])"
      ]
     },
     "execution_count": 132,
     "metadata": {},
     "output_type": "execute_result"
    }
   ],
   "source": [
    "a,b =iter(dataLoader3).next()\n",
    "b"
   ]
  },
  {
   "cell_type": "code",
   "execution_count": null,
   "metadata": {},
   "outputs": [],
   "source": []
  }
 ],
 "metadata": {
  "interpreter": {
   "hash": "ac59ebe37160ed0dfa835113d9b8498d9f09ceb179beaac4002f036b9467c963"
  },
  "kernelspec": {
   "display_name": "Python 3.9.5 64-bit",
   "name": "python3"
  },
  "language_info": {
   "codemirror_mode": {
    "name": "ipython",
    "version": 3
   },
   "file_extension": ".py",
   "mimetype": "text/x-python",
   "name": "python",
   "nbconvert_exporter": "python",
   "pygments_lexer": "ipython3",
   "version": "3.9.5"
  },
  "orig_nbformat": 4
 },
 "nbformat": 4,
 "nbformat_minor": 2
}
